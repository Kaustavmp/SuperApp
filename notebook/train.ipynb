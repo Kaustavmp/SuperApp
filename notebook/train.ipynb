{
 "cells": [
  {
   "cell_type": "code",
   "execution_count": 5,
   "id": "3bbacc7c",
   "metadata": {},
   "outputs": [
    {
     "name": "stdout",
     "output_type": "stream",
     "text": [
      "Requirement already satisfied: scikit-learn in ./.venv/lib/python3.12/site-packages (1.7.2)\n",
      "Requirement already satisfied: xgboost in ./.venv/lib/python3.12/site-packages (3.0.5)\n",
      "Requirement already satisfied: numpy>=1.22.0 in ./.venv/lib/python3.12/site-packages (from scikit-learn) (2.3.3)\n",
      "Requirement already satisfied: scipy>=1.8.0 in ./.venv/lib/python3.12/site-packages (from scikit-learn) (1.16.2)\n",
      "Requirement already satisfied: joblib>=1.2.0 in ./.venv/lib/python3.12/site-packages (from scikit-learn) (1.5.2)\n",
      "Requirement already satisfied: threadpoolctl>=3.1.0 in ./.venv/lib/python3.12/site-packages (from scikit-learn) (3.6.0)\n",
      "Requirement already satisfied: nvidia-nccl-cu12 in ./.venv/lib/python3.12/site-packages (from xgboost) (2.28.3)\n",
      "Note: you may need to restart the kernel to use updated packages.\n"
     ]
    }
   ],
   "source": [
    "%pip install scikit-learn xgboost\n",
    "\n",
    "import pandas as pd\n",
    "import numpy as np\n",
    "from sklearn.model_selection import train_test_split, cross_val_score\n",
    "from sklearn.metrics import accuracy_score, roc_auc_score, classification_report\n",
    "from sklearn.preprocessing import LabelEncoder, StandardScaler\n",
    "from sklearn.pipeline import Pipeline\n",
    "from sklearn.ensemble import RandomForestClassifier, GradientBoostingClassifier\n",
    "import xgboost as xgb\n",
    "import matplotlib.pyplot as plt\n",
    "import seaborn as sns\n",
    "\n",
    "# Load datasets\n",
    "balls = pd.read_csv(\"/workspaces/SuperApp/datasets/each_ball_records.csv\")\n",
    "matches = pd.read_csv(\"/workspaces/SuperApp/datasets/each_match_records.csv\")"
   ]
  },
  {
   "cell_type": "code",
   "execution_count": 7,
   "id": "64311496",
   "metadata": {},
   "outputs": [
    {
     "name": "stderr",
     "output_type": "stream",
     "text": [
      "/tmp/ipykernel_5982/31436668.py:3: FutureWarning: DataFrameGroupBy.apply operated on the grouping columns. This behavior is deprecated, and in a future version of pandas the grouping columns will be excluded from the operation. Either pass `include_groups=False` to exclude the groupings or explicitly select the grouping columns after groupby to silence this warning.\n",
      "  ball_features = balls.groupby(\"match_no\").apply(lambda x: {\n"
     ]
    }
   ],
   "source": [
    "# Example: create match-ball level win probability features\n",
    "match_summary = matches[[\"match_number\", \"venue\", \"team1\", \"team2\", \"toss_won\", \"toss_decision\", \"winner\"]]\n",
    "ball_features = balls.groupby(\"match_no\").apply(lambda x: {\n",
    "    \"runs_so_far\": x[\"score\"].cumsum().tolist(),\n",
    "    \"wickets_down\": x.get(\"is_wicket\", pd.Series([0]*len(x))).cumsum().tolist() if \"is_wicket\" in x else [0]*len(x)\n",
    "}).reset_index()\n",
    "\n",
    "# Merge into training set (simplified example)\n",
    "df = pd.merge(matches, balls, left_on=\"match_number\", right_on=\"match_no\", how=\"left\")\n"
   ]
  },
  {
   "cell_type": "code",
   "execution_count": 10,
   "id": "62b9226a",
   "metadata": {},
   "outputs": [
    {
     "name": "stdout",
     "output_type": "stream",
     "text": [
      "AUC: 0.8863032506817968\n"
     ]
    }
   ],
   "source": [
    "# Encode categorical\n",
    "le = LabelEncoder()\n",
    "df[\"venue\"] = le.fit_transform(df[\"venue\"].astype(str))\n",
    "df[\"batter\"] = le.fit_transform(df[\"batter\"].astype(str))\n",
    "\n",
    "# Train-test split\n",
    "X = df[[\"venue\", \"batter\", \"score\", \"over\", \"ballnumber\"]]\n",
    "# Get batter's team for each row\n",
    "batter_team = df[\"team1\"].where(df[\"ballnumber\"] <= 60, df[\"team2\"])\n",
    "y = (df[\"winner\"] == batter_team).astype(int)\n",
    "\n",
    "X_train, X_test, y_train, y_test = train_test_split(X, y, test_size=0.2, stratify=y)\n",
    "\n",
    "# Pipeline\n",
    "clf = Pipeline([\n",
    "    (\"scaler\", StandardScaler()),\n",
    "    (\"model\", xgb.XGBClassifier(eval_metric=\"logloss\"))\n",
    "])\n",
    "\n",
    "clf.fit(X_train, y_train)\n",
    "preds = clf.predict_proba(X_test)[:,1]\n",
    "\n",
    "print(\"AUC:\", roc_auc_score(y_test, preds))\n"
   ]
  },
  {
   "cell_type": "code",
   "execution_count": 4,
   "id": "15659142",
   "metadata": {},
   "outputs": [
    {
     "ename": "NameError",
     "evalue": "name 'matches' is not defined",
     "output_type": "error",
     "traceback": [
      "\u001b[31m---------------------------------------------------------------------------\u001b[39m",
      "\u001b[31mNameError\u001b[39m                                 Traceback (most recent call last)",
      "\u001b[36mCell\u001b[39m\u001b[36m \u001b[39m\u001b[32mIn[4]\u001b[39m\u001b[32m, line 2\u001b[39m\n\u001b[32m      1\u001b[39m \u001b[38;5;66;03m# Simplified MoM feature table\u001b[39;00m\n\u001b[32m----> \u001b[39m\u001b[32m2\u001b[39m mom_df = \u001b[43mmatches\u001b[49m[[\n\u001b[32m      3\u001b[39m     \u001b[33m\"\u001b[39m\u001b[33mmatch_number\u001b[39m\u001b[33m\"\u001b[39m, \u001b[33m\"\u001b[39m\u001b[33mvenue\u001b[39m\u001b[33m\"\u001b[39m, \u001b[33m\"\u001b[39m\u001b[33mteam1\u001b[39m\u001b[33m\"\u001b[39m, \u001b[33m\"\u001b[39m\u001b[33mteam2\u001b[39m\u001b[33m\"\u001b[39m, \n\u001b[32m      4\u001b[39m     \u001b[33m\"\u001b[39m\u001b[33mtoss_won\u001b[39m\u001b[33m\"\u001b[39m, \u001b[33m\"\u001b[39m\u001b[33mtoss_decision\u001b[39m\u001b[33m\"\u001b[39m, \u001b[33m\"\u001b[39m\u001b[33mwinner\u001b[39m\u001b[33m\"\u001b[39m, \u001b[33m\"\u001b[39m\u001b[33mplayer_of_the_match\u001b[39m\u001b[33m\"\u001b[39m\n\u001b[32m      5\u001b[39m ]].dropna(subset=[\u001b[33m\"\u001b[39m\u001b[33mplayer_of_the_match\u001b[39m\u001b[33m\"\u001b[39m])\n\u001b[32m      7\u001b[39m \u001b[38;5;66;03m# Example aggregated player stats (from ball records)\u001b[39;00m\n\u001b[32m      8\u001b[39m player_stats = (\n\u001b[32m      9\u001b[39m     balls.groupby([\u001b[33m\"\u001b[39m\u001b[33mmatch_no\u001b[39m\u001b[33m\"\u001b[39m, \u001b[33m\"\u001b[39m\u001b[33mbatter\u001b[39m\u001b[33m\"\u001b[39m])\n\u001b[32m     10\u001b[39m     .agg({\n\u001b[32m   (...)\u001b[39m\u001b[32m     17\u001b[39m                      \u001b[33m\"\u001b[39m\u001b[33mbatter\u001b[39m\u001b[33m\"\u001b[39m: \u001b[33m\"\u001b[39m\u001b[33mbatsman\u001b[39m\u001b[33m\"\u001b[39m})\n\u001b[32m     18\u001b[39m )\n",
      "\u001b[31mNameError\u001b[39m: name 'matches' is not defined"
     ]
    }
   ],
   "source": [
    "# Simplified MoM feature table\n",
    "mom_df = matches[[\n",
    "    \"match_number\", \"venue\", \"team1\", \"team2\", \n",
    "    \"toss_won\", \"toss_decision\", \"winner\", \"player_of_the_match\"\n",
    "]].dropna(subset=[\"player_of_the_match\"])\n",
    "\n",
    "# Example aggregated player stats (from ball records)\n",
    "player_stats = (\n",
    "    balls.groupby([\"match_no\", \"batter\"])\n",
    "    .agg({\n",
    "        \"batsman_runs\": \"sum\",\n",
    "        \"ballnumber\": \"count\"\n",
    "    })\n",
    "    .reset_index()\n",
    "    .rename(columns={\"ballnumber\": \"balls_faced\", \n",
    "                     \"match_no\": \"match_number\", \n",
    "                     \"batter\": \"batsman\"})\n",
    ")\n",
    "\n",
    "# Merge with matches\n",
    "mom_train = pd.merge(player_stats, mom_df, on=\"match_number\", how=\"inner\")\n",
    "\n",
    "# Encode target (MoM = 1, otherwise 0)\n",
    "mom_train[\"mom_label\"] = (\n",
    "    mom_train[\"batsman\"].str.strip().str.lower() ==\n",
    "    mom_train[\"player_of_the_match\"].str.strip().str.lower()\n",
    ").astype(int)\n",
    "\n",
    "# Features and target\n",
    "X = mom_train[[\"batsman_runs\", \"balls_faced\"]]\n",
    "y = mom_train[\"mom_label\"]\n",
    "\n",
    "# Handle extreme imbalance (very few 1s compared to 0s)\n",
    "if y.sum() == 0:\n",
    "    raise ValueError(\"No player_of_the_match found in batsman stats. Check joins/data.\")\n",
    "\n",
    "X_train, X_test, y_train, y_test = train_test_split(\n",
    "    X, y, test_size=0.2, stratify=y, random_state=42\n",
    ")\n",
    "\n",
    "# Train model\n",
    "model = RandomForestClassifier(\n",
    "    n_estimators=200,\n",
    "    class_weight=\"balanced\",   # handles imbalance\n",
    "    random_state=42\n",
    ")\n",
    "model.fit(X_train, y_train)\n",
    "\n",
    "# Predictions\n",
    "preds = model.predict(X_test)\n",
    "\n",
    "print(classification_report(y_test, preds, zero_division=0))\n"
   ]
  }
 ],
 "metadata": {
  "kernelspec": {
   "display_name": ".venv",
   "language": "python",
   "name": "python3"
  },
  "language_info": {
   "codemirror_mode": {
    "name": "ipython",
    "version": 3
   },
   "file_extension": ".py",
   "mimetype": "text/x-python",
   "name": "python",
   "nbconvert_exporter": "python",
   "pygments_lexer": "ipython3",
   "version": "3.12.1"
  }
 },
 "nbformat": 4,
 "nbformat_minor": 5
}
